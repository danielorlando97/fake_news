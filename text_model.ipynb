{
 "cells": [
  {
   "cell_type": "code",
   "execution_count": 1,
   "metadata": {},
   "outputs": [],
   "source": [
    "import pandas as pd"
   ]
  },
  {
   "cell_type": "code",
   "execution_count": 2,
   "metadata": {},
   "outputs": [],
   "source": [
    "df = pd.read_csv('dataset_curso.csv')\n",
    "df['label'] = df['2_way_label']\n",
    "df = df[['clean_title', 'label']]"
   ]
  },
  {
   "cell_type": "code",
   "execution_count": 3,
   "metadata": {},
   "outputs": [
    {
     "data": {
      "text/plain": [
       "DatasetDict({\n",
       "    train: Dataset({\n",
       "        features: ['clean_title', 'label'],\n",
       "        num_rows: 45120\n",
       "    })\n",
       "    test: Dataset({\n",
       "        features: ['clean_title', 'label'],\n",
       "        num_rows: 11280\n",
       "    })\n",
       "})"
      ]
     },
     "execution_count": 3,
     "metadata": {},
     "output_type": "execute_result"
    }
   ],
   "source": [
    "from datasets import Dataset\n",
    "\n",
    "text_dataset = Dataset.from_pandas(df) \\\n",
    "    .train_test_split(test_size=0.2)\n",
    "\n",
    "text_dataset"
   ]
  },
  {
   "cell_type": "code",
   "execution_count": 4,
   "metadata": {},
   "outputs": [],
   "source": [
    "from transformers import AutoTokenizer\n",
    "\n",
    "repo_id = \"distilroberta-base\"\n",
    "\n",
    "tokenizer = AutoTokenizer.from_pretrained(repo_id)"
   ]
  },
  {
   "cell_type": "code",
   "execution_count": 5,
   "metadata": {},
   "outputs": [],
   "source": [
    "def tokenize_fn(example):\n",
    "  return tokenizer(example[\"clean_title\"], truncation=True, return_tensors='pt', padding=True)"
   ]
  },
  {
   "cell_type": "code",
   "execution_count": 6,
   "metadata": {},
   "outputs": [
    {
     "data": {
      "application/vnd.jupyter.widget-view+json": {
       "model_id": "691210c599024d3198a029e2da970235",
       "version_major": 2,
       "version_minor": 0
      },
      "text/plain": [
       "Map:   0%|          | 0/45120 [00:00<?, ? examples/s]"
      ]
     },
     "metadata": {},
     "output_type": "display_data"
    },
    {
     "data": {
      "application/vnd.jupyter.widget-view+json": {
       "model_id": "fa0678e1e4f34d918eb420d21b7de29f",
       "version_major": 2,
       "version_minor": 0
      },
      "text/plain": [
       "Map:   0%|          | 0/11280 [00:00<?, ? examples/s]"
      ]
     },
     "metadata": {},
     "output_type": "display_data"
    },
    {
     "data": {
      "application/vnd.jupyter.widget-view+json": {
       "model_id": "c2f6236942b34c2690a708869ec4bf8e",
       "version_major": 2,
       "version_minor": 0
      },
      "text/plain": [
       "Map:   0%|          | 0/45120 [00:00<?, ? examples/s]"
      ]
     },
     "metadata": {},
     "output_type": "display_data"
    },
    {
     "data": {
      "application/vnd.jupyter.widget-view+json": {
       "model_id": "d76eb8c05589409ea5efa137a603fc52",
       "version_major": 2,
       "version_minor": 0
      },
      "text/plain": [
       "Map:   0%|          | 0/11280 [00:00<?, ? examples/s]"
      ]
     },
     "metadata": {},
     "output_type": "display_data"
    }
   ],
   "source": [
    "text_dataset = text_dataset.map(tokenize_fn, batched=True)\n",
    "text_dataset = text_dataset.map(lambda x: x, batched=True, remove_columns=['clean_title'])"
   ]
  },
  {
   "cell_type": "code",
   "execution_count": 7,
   "metadata": {},
   "outputs": [
    {
     "name": "stdout",
     "output_type": "stream",
     "text": [
      "{'label': 0, 'input_ids': [0, 4783, 47510, 3254, 2242, 40254, 329, 8256, 2, 1, 1, 1, 1, 1, 1, 1, 1, 1, 1, 1, 1, 1, 1, 1, 1, 1, 1, 1, 1, 1, 1, 1, 1, 1, 1, 1, 1, 1, 1, 1, 1, 1, 1, 1, 1, 1, 1, 1, 1, 1, 1, 1, 1, 1, 1, 1, 1, 1, 1], 'attention_mask': [1, 1, 1, 1, 1, 1, 1, 1, 1, 0, 0, 0, 0, 0, 0, 0, 0, 0, 0, 0, 0, 0, 0, 0, 0, 0, 0, 0, 0, 0, 0, 0, 0, 0, 0, 0, 0, 0, 0, 0, 0, 0, 0, 0, 0, 0, 0, 0, 0, 0, 0, 0, 0, 0, 0, 0, 0, 0, 0]}\n"
     ]
    }
   ],
   "source": [
    "print(text_dataset['train'][0])"
   ]
  },
  {
   "cell_type": "code",
   "execution_count": 8,
   "metadata": {},
   "outputs": [
    {
     "name": "stderr",
     "output_type": "stream",
     "text": [
      "huggingface/tokenizers: The current process just got forked, after parallelism has already been used. Disabling parallelism to avoid deadlocks...\n",
      "To disable this warning, you can either:\n",
      "\t- Avoid using `tokenizers` before the fork if possible\n",
      "\t- Explicitly set the environment variable TOKENIZERS_PARALLELISM=(true | false)\n"
     ]
    }
   ],
   "source": [
    "from transformers import DataCollatorWithPadding\n",
    "\n",
    "data_collator = DataCollatorWithPadding(tokenizer=tokenizer)"
   ]
  },
  {
   "cell_type": "code",
   "execution_count": 9,
   "metadata": {},
   "outputs": [],
   "source": [
    "import evaluate\n",
    "\n",
    "clf_metrics = evaluate.combine([\"accuracy\", \"f1\", \"precision\", \"recall\"])"
   ]
  },
  {
   "cell_type": "code",
   "execution_count": 10,
   "metadata": {},
   "outputs": [],
   "source": [
    "import numpy as np\n",
    "\n",
    "def compute_metrics(eval_pred):\n",
    "  logits, labels = eval_pred\n",
    "  predictions = np.argmax(logits, axis=-1)\n",
    "  return clf_metrics.compute(predictions=predictions, references=labels)"
   ]
  },
  {
   "cell_type": "code",
   "execution_count": 11,
   "metadata": {},
   "outputs": [
    {
     "name": "stderr",
     "output_type": "stream",
     "text": [
      "Some weights of RobertaForSequenceClassification were not initialized from the model checkpoint at distilroberta-base and are newly initialized: ['classifier.dense.bias', 'classifier.out_proj.weight', 'classifier.dense.weight', 'classifier.out_proj.bias']\n",
      "You should probably TRAIN this model on a down-stream task to be able to use it for predictions and inference.\n"
     ]
    }
   ],
   "source": [
    "from transformers import AutoModelForSequenceClassification\n",
    "\n",
    "\n",
    "model = AutoModelForSequenceClassification.from_pretrained(\n",
    "    repo_id,num_labels=2,\n",
    ")"
   ]
  },
  {
   "cell_type": "code",
   "execution_count": 12,
   "metadata": {},
   "outputs": [],
   "source": [
    "import torch\n",
    "from transformers import TrainingArguments\n",
    "\n",
    "\n",
    "\n",
    "training_args = TrainingArguments(\n",
    "    output_dir = \"./text_model\",\n",
    "    evaluation_strategy=\"steps\",\n",
    "    num_train_epochs=1,\n",
    "    load_best_model_at_end=True,\n",
    "    remove_unused_columns=False,\n",
    "    no_cuda=False,\n",
    ")"
   ]
  },
  {
   "cell_type": "code",
   "execution_count": 13,
   "metadata": {},
   "outputs": [],
   "source": [
    "from transformers import Trainer\n",
    "\n",
    "trainer = Trainer(\n",
    "    model,\n",
    "    training_args,\n",
    "    train_dataset=text_dataset[\"train\"],\n",
    "    eval_dataset=text_dataset[\"test\"],\n",
    "    data_collator=data_collator,\n",
    "    tokenizer=tokenizer,\n",
    "    compute_metrics=compute_metrics\n",
    ")\n",
    "\n"
   ]
  },
  {
   "cell_type": "code",
   "execution_count": 14,
   "metadata": {},
   "outputs": [
    {
     "data": {
      "application/vnd.jupyter.widget-view+json": {
       "model_id": "3672016167d9488b93ac73addbfba2a9",
       "version_major": 2,
       "version_minor": 0
      },
      "text/plain": [
       "  0%|          | 0/5640 [00:00<?, ?it/s]"
      ]
     },
     "metadata": {},
     "output_type": "display_data"
    },
    {
     "name": "stderr",
     "output_type": "stream",
     "text": [
      "You're using a RobertaTokenizerFast tokenizer. Please note that with a fast tokenizer, using the `__call__` method is faster than using a method to encode the text followed by a call to the `pad` method to get a padded encoding.\n"
     ]
    },
    {
     "name": "stdout",
     "output_type": "stream",
     "text": [
      "{'loss': 0.5546, 'learning_rate': 4.556737588652483e-05, 'epoch': 0.09}\n"
     ]
    },
    {
     "data": {
      "application/vnd.jupyter.widget-view+json": {
       "model_id": "8436a953e8be4fedb64fbed41e3dd8d1",
       "version_major": 2,
       "version_minor": 0
      },
      "text/plain": [
       "  0%|          | 0/1410 [00:00<?, ?it/s]"
      ]
     },
     "metadata": {},
     "output_type": "display_data"
    },
    {
     "name": "stdout",
     "output_type": "stream",
     "text": [
      "{'eval_loss': 0.44599902629852295, 'eval_accuracy': 0.7896276595744681, 'eval_f1': 0.7611474584801208, 'eval_precision': 0.6897117840204305, 'eval_recall': 0.849090500785987, 'eval_runtime': 453.4207, 'eval_samples_per_second': 24.878, 'eval_steps_per_second': 3.11, 'epoch': 0.09}\n",
      "{'loss': 0.482, 'learning_rate': 4.1134751773049644e-05, 'epoch': 0.18}\n"
     ]
    },
    {
     "data": {
      "application/vnd.jupyter.widget-view+json": {
       "model_id": "454df36bc32e4f03aa3ce888278d0c57",
       "version_major": 2,
       "version_minor": 0
      },
      "text/plain": [
       "  0%|          | 0/1410 [00:00<?, ?it/s]"
      ]
     },
     "metadata": {},
     "output_type": "display_data"
    },
    {
     "name": "stdout",
     "output_type": "stream",
     "text": [
      "{'eval_loss': 0.4508322477340698, 'eval_accuracy': 0.8097517730496454, 'eval_f1': 0.7706774951912801, 'eval_precision': 0.7351681957186544, 'eval_recall': 0.8097911520323378, 'eval_runtime': 132.4981, 'eval_samples_per_second': 85.133, 'eval_steps_per_second': 10.642, 'epoch': 0.18}\n",
      "{'loss': 0.4565, 'learning_rate': 3.670212765957447e-05, 'epoch': 0.27}\n"
     ]
    },
    {
     "data": {
      "application/vnd.jupyter.widget-view+json": {
       "model_id": "ca91d748dffc41289deb2bde49985321",
       "version_major": 2,
       "version_minor": 0
      },
      "text/plain": [
       "  0%|          | 0/1410 [00:00<?, ?it/s]"
      ]
     },
     "metadata": {},
     "output_type": "display_data"
    },
    {
     "name": "stdout",
     "output_type": "stream",
     "text": [
      "{'eval_loss': 0.5181368589401245, 'eval_accuracy': 0.8109042553191489, 'eval_f1': 0.7830773924539816, 'eval_precision': 0.7156133828996283, 'eval_recall': 0.864585672580283, 'eval_runtime': 140.8534, 'eval_samples_per_second': 80.083, 'eval_steps_per_second': 10.01, 'epoch': 0.27}\n",
      "{'loss': 0.4452, 'learning_rate': 3.226950354609929e-05, 'epoch': 0.35}\n"
     ]
    },
    {
     "data": {
      "application/vnd.jupyter.widget-view+json": {
       "model_id": "8673046f514e4c96a23ef5bf5e65966f",
       "version_major": 2,
       "version_minor": 0
      },
      "text/plain": [
       "  0%|          | 0/1410 [00:00<?, ?it/s]"
      ]
     },
     "metadata": {},
     "output_type": "display_data"
    },
    {
     "name": "stdout",
     "output_type": "stream",
     "text": [
      "{'eval_loss': 0.42694878578186035, 'eval_accuracy': 0.825709219858156, 'eval_f1': 0.7908955541374176, 'eval_precision': 0.7512628813901798, 'eval_recall': 0.8349427352346732, 'eval_runtime': 132.1524, 'eval_samples_per_second': 85.356, 'eval_steps_per_second': 10.669, 'epoch': 0.35}\n",
      "{'loss': 0.4364, 'learning_rate': 2.7836879432624114e-05, 'epoch': 0.44}\n"
     ]
    },
    {
     "data": {
      "application/vnd.jupyter.widget-view+json": {
       "model_id": "067caaa543464dea869b897c716a8e05",
       "version_major": 2,
       "version_minor": 0
      },
      "text/plain": [
       "  0%|          | 0/1410 [00:00<?, ?it/s]"
      ]
     },
     "metadata": {},
     "output_type": "display_data"
    },
    {
     "name": "stdout",
     "output_type": "stream",
     "text": [
      "{'eval_loss': 0.38679587841033936, 'eval_accuracy': 0.8297872340425532, 'eval_f1': 0.7975537747785745, 'eval_precision': 0.7517392168554959, 'eval_recall': 0.8493150684931506, 'eval_runtime': 131.5439, 'eval_samples_per_second': 85.751, 'eval_steps_per_second': 10.719, 'epoch': 0.44}\n",
      "{'loss': 0.4037, 'learning_rate': 2.340425531914894e-05, 'epoch': 0.53}\n"
     ]
    },
    {
     "data": {
      "application/vnd.jupyter.widget-view+json": {
       "model_id": "296610bf9f3b44578122808f4695dd32",
       "version_major": 2,
       "version_minor": 0
      },
      "text/plain": [
       "  0%|          | 0/1410 [00:00<?, ?it/s]"
      ]
     },
     "metadata": {},
     "output_type": "display_data"
    },
    {
     "name": "stdout",
     "output_type": "stream",
     "text": [
      "{'eval_loss': 0.4313322603702545, 'eval_accuracy': 0.8370567375886525, 'eval_f1': 0.7908511606736459, 'eval_precision': 0.8016147635524798, 'eval_recall': 0.7803727823938917, 'eval_runtime': 130.9854, 'eval_samples_per_second': 86.116, 'eval_steps_per_second': 10.765, 'epoch': 0.53}\n",
      "{'loss': 0.3965, 'learning_rate': 1.897163120567376e-05, 'epoch': 0.62}\n"
     ]
    },
    {
     "data": {
      "application/vnd.jupyter.widget-view+json": {
       "model_id": "500c8a143b644685a24e49257ac04c22",
       "version_major": 2,
       "version_minor": 0
      },
      "text/plain": [
       "  0%|          | 0/1410 [00:00<?, ?it/s]"
      ]
     },
     "metadata": {},
     "output_type": "display_data"
    },
    {
     "name": "stdout",
     "output_type": "stream",
     "text": [
      "{'eval_loss': 0.3825870454311371, 'eval_accuracy': 0.8401595744680851, 'eval_f1': 0.8006192635187438, 'eval_precision': 0.7886710239651417, 'eval_recall': 0.8129350999326297, 'eval_runtime': 134.6425, 'eval_samples_per_second': 83.777, 'eval_steps_per_second': 10.472, 'epoch': 0.62}\n",
      "{'loss': 0.3863, 'learning_rate': 1.4539007092198581e-05, 'epoch': 0.71}\n"
     ]
    },
    {
     "data": {
      "application/vnd.jupyter.widget-view+json": {
       "model_id": "8463d79f3f4b41778a2947cd98976544",
       "version_major": 2,
       "version_minor": 0
      },
      "text/plain": [
       "  0%|          | 0/1410 [00:00<?, ?it/s]"
      ]
     },
     "metadata": {},
     "output_type": "display_data"
    },
    {
     "name": "stdout",
     "output_type": "stream",
     "text": [
      "{'eval_loss': 0.4211887717247009, 'eval_accuracy': 0.8445921985815603, 'eval_f1': 0.7981577432354633, 'eval_precision': 0.8189981096408318, 'eval_recall': 0.7783516730294183, 'eval_runtime': 134.6867, 'eval_samples_per_second': 83.75, 'eval_steps_per_second': 10.469, 'epoch': 0.71}\n",
      "{'loss': 0.3942, 'learning_rate': 1.0106382978723404e-05, 'epoch': 0.8}\n"
     ]
    },
    {
     "data": {
      "application/vnd.jupyter.widget-view+json": {
       "model_id": "191e466564714990a5924e226f1a989f",
       "version_major": 2,
       "version_minor": 0
      },
      "text/plain": [
       "  0%|          | 0/1410 [00:00<?, ?it/s]"
      ]
     },
     "metadata": {},
     "output_type": "display_data"
    },
    {
     "name": "stdout",
     "output_type": "stream",
     "text": [
      "{'eval_loss': 0.40174466371536255, 'eval_accuracy': 0.8361702127659575, 'eval_f1': 0.8064516129032256, 'eval_precision': 0.7556427870461236, 'eval_recall': 0.864585672580283, 'eval_runtime': 133.8556, 'eval_samples_per_second': 84.27, 'eval_steps_per_second': 10.534, 'epoch': 0.8}\n",
      "{'loss': 0.3828, 'learning_rate': 5.673758865248227e-06, 'epoch': 0.89}\n"
     ]
    },
    {
     "data": {
      "application/vnd.jupyter.widget-view+json": {
       "model_id": "9db01f953df244b49f3f81d454f30f6b",
       "version_major": 2,
       "version_minor": 0
      },
      "text/plain": [
       "  0%|          | 0/1410 [00:00<?, ?it/s]"
      ]
     },
     "metadata": {},
     "output_type": "display_data"
    },
    {
     "name": "stdout",
     "output_type": "stream",
     "text": [
      "{'eval_loss': 0.4085642695426941, 'eval_accuracy': 0.8453900709219858, 'eval_f1': 0.8028487451955686, 'eval_precision': 0.8083314363760528, 'eval_recall': 0.7974399281383338, 'eval_runtime': 145.2535, 'eval_samples_per_second': 77.657, 'eval_steps_per_second': 9.707, 'epoch': 0.89}\n",
      "{'loss': 0.3759, 'learning_rate': 1.2411347517730497e-06, 'epoch': 0.98}\n"
     ]
    },
    {
     "data": {
      "application/vnd.jupyter.widget-view+json": {
       "model_id": "6642387a06b84feabffa7222295f3fb8",
       "version_major": 2,
       "version_minor": 0
      },
      "text/plain": [
       "  0%|          | 0/1410 [00:00<?, ?it/s]"
      ]
     },
     "metadata": {},
     "output_type": "display_data"
    },
    {
     "name": "stdout",
     "output_type": "stream",
     "text": [
      "{'eval_loss': 0.3954736292362213, 'eval_accuracy': 0.8468085106382979, 'eval_f1': 0.8025142857142856, 'eval_precision': 0.8170816848964394, 'eval_recall': 0.7884572198517853, 'eval_runtime': 130.5239, 'eval_samples_per_second': 86.421, 'eval_steps_per_second': 10.803, 'epoch': 0.98}\n",
      "{'train_runtime': 4725.7519, 'train_samples_per_second': 9.548, 'train_steps_per_second': 1.193, 'train_loss': 0.42828578475519274, 'epoch': 1.0}\n",
      "***** train metrics *****\n",
      "  epoch                    =        1.0\n",
      "  train_loss               =     0.4283\n",
      "  train_runtime            = 1:18:45.75\n",
      "  train_samples_per_second =      9.548\n",
      "  train_steps_per_second   =      1.193\n"
     ]
    }
   ],
   "source": [
    "train_results = trainer.train()\n",
    "trainer.save_model()\n",
    "trainer.log_metrics(\"train\", train_results.metrics)\n",
    "trainer.save_metrics(\"train\", train_results.metrics)"
   ]
  },
  {
   "cell_type": "code",
   "execution_count": 15,
   "metadata": {},
   "outputs": [
    {
     "data": {
      "application/vnd.jupyter.widget-view+json": {
       "model_id": "36a95633c56d4613b42a3e244154a72a",
       "version_major": 2,
       "version_minor": 0
      },
      "text/plain": [
       "  0%|          | 0/1410 [00:00<?, ?it/s]"
      ]
     },
     "metadata": {},
     "output_type": "display_data"
    },
    {
     "name": "stdout",
     "output_type": "stream",
     "text": [
      "***** eval metrics *****\n",
      "  epoch                   =        1.0\n",
      "  eval_accuracy           =     0.8402\n",
      "  eval_f1                 =     0.8006\n",
      "  eval_loss               =     0.3826\n",
      "  eval_precision          =     0.7887\n",
      "  eval_recall             =     0.8129\n",
      "  eval_runtime            = 0:02:13.84\n",
      "  eval_samples_per_second =     84.275\n",
      "  eval_steps_per_second   =     10.534\n"
     ]
    }
   ],
   "source": [
    "metrics = trainer.evaluate(text_dataset[\"test\"])\n",
    "trainer.log_metrics(\"eval\", metrics)\n",
    "trainer.save_metrics(\"eval\", metrics)"
   ]
  }
 ],
 "metadata": {
  "kernelspec": {
   "display_name": "fake_news-6ZUGHfY-",
   "language": "python",
   "name": "python3"
  },
  "language_info": {
   "codemirror_mode": {
    "name": "ipython",
    "version": 3
   },
   "file_extension": ".py",
   "mimetype": "text/x-python",
   "name": "python",
   "nbconvert_exporter": "python",
   "pygments_lexer": "ipython3",
   "version": "3.11.2"
  }
 },
 "nbformat": 4,
 "nbformat_minor": 2
}
