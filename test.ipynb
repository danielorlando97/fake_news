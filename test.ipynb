{
 "cells": [
  {
   "cell_type": "code",
   "execution_count": 14,
   "metadata": {},
   "outputs": [],
   "source": [
    "import pandas as pd\n",
    "import os\n",
    "from tqdm import tqdm\n",
    "import urllib.request\n",
    "import numpy as np\n",
    "import sys"
   ]
  },
  {
   "cell_type": "code",
   "execution_count": 6,
   "metadata": {},
   "outputs": [
    {
     "data": {
      "text/html": [
       "<div>\n",
       "<style scoped>\n",
       "    .dataframe tbody tr th:only-of-type {\n",
       "        vertical-align: middle;\n",
       "    }\n",
       "\n",
       "    .dataframe tbody tr th {\n",
       "        vertical-align: top;\n",
       "    }\n",
       "\n",
       "    .dataframe thead th {\n",
       "        text-align: right;\n",
       "    }\n",
       "</style>\n",
       "<table border=\"1\" class=\"dataframe\">\n",
       "  <thead>\n",
       "    <tr style=\"text-align: right;\">\n",
       "      <th></th>\n",
       "      <th>clean_title</th>\n",
       "      <th>created_utc</th>\n",
       "      <th>id</th>\n",
       "      <th>image_url</th>\n",
       "      <th>linked_submission_id</th>\n",
       "      <th>num_comments</th>\n",
       "      <th>score</th>\n",
       "      <th>upvote_ratio</th>\n",
       "      <th>2_way_label</th>\n",
       "    </tr>\n",
       "  </thead>\n",
       "  <tbody>\n",
       "    <tr>\n",
       "      <th>0</th>\n",
       "      <td>portland water supply to be flushed after teen...</td>\n",
       "      <td>1.397748e+09</td>\n",
       "      <td>239vnh</td>\n",
       "      <td>https://external-preview.redd.it/h_E8kwTPvvR6L...</td>\n",
       "      <td>NaN</td>\n",
       "      <td>6.0</td>\n",
       "      <td>5</td>\n",
       "      <td>0.78</td>\n",
       "      <td>1</td>\n",
       "    </tr>\n",
       "    <tr>\n",
       "      <th>1</th>\n",
       "      <td>when all the pundits said clinton would win th...</td>\n",
       "      <td>1.528325e+09</td>\n",
       "      <td>8p52o3</td>\n",
       "      <td>https://preview.redd.it/egrrssrbkg211.jpg?widt...</td>\n",
       "      <td>NaN</td>\n",
       "      <td>1.0</td>\n",
       "      <td>4</td>\n",
       "      <td>0.84</td>\n",
       "      <td>0</td>\n",
       "    </tr>\n",
       "    <tr>\n",
       "      <th>2</th>\n",
       "      <td>king femme dirty kitty this is my first time i...</td>\n",
       "      <td>1.563147e+09</td>\n",
       "      <td>cd9y6e</td>\n",
       "      <td>https://preview.redd.it/f5wxn4b5uca31.jpg?widt...</td>\n",
       "      <td>NaN</td>\n",
       "      <td>2.0</td>\n",
       "      <td>33</td>\n",
       "      <td>1.00</td>\n",
       "      <td>0</td>\n",
       "    </tr>\n",
       "    <tr>\n",
       "      <th>3</th>\n",
       "      <td>angry human yelling at peaceful human</td>\n",
       "      <td>1.439152e+09</td>\n",
       "      <td>3gduaq</td>\n",
       "      <td>https://external-preview.redd.it/8OkDeADBmg78e...</td>\n",
       "      <td>NaN</td>\n",
       "      <td>10.0</td>\n",
       "      <td>23</td>\n",
       "      <td>0.73</td>\n",
       "      <td>1</td>\n",
       "    </tr>\n",
       "    <tr>\n",
       "      <th>4</th>\n",
       "      <td>oh i get it now haha</td>\n",
       "      <td>1.428162e+09</td>\n",
       "      <td>cq10fmf</td>\n",
       "      <td>http://i.imgur.com/fpuSTrf.jpg</td>\n",
       "      <td>31c39q</td>\n",
       "      <td>NaN</td>\n",
       "      <td>1</td>\n",
       "      <td>NaN</td>\n",
       "      <td>0</td>\n",
       "    </tr>\n",
       "  </tbody>\n",
       "</table>\n",
       "</div>"
      ],
      "text/plain": [
       "                                         clean_title   created_utc       id  \\\n",
       "0  portland water supply to be flushed after teen...  1.397748e+09   239vnh   \n",
       "1  when all the pundits said clinton would win th...  1.528325e+09   8p52o3   \n",
       "2  king femme dirty kitty this is my first time i...  1.563147e+09   cd9y6e   \n",
       "3              angry human yelling at peaceful human  1.439152e+09   3gduaq   \n",
       "4                               oh i get it now haha  1.428162e+09  cq10fmf   \n",
       "\n",
       "                                           image_url linked_submission_id  \\\n",
       "0  https://external-preview.redd.it/h_E8kwTPvvR6L...                  NaN   \n",
       "1  https://preview.redd.it/egrrssrbkg211.jpg?widt...                  NaN   \n",
       "2  https://preview.redd.it/f5wxn4b5uca31.jpg?widt...                  NaN   \n",
       "3  https://external-preview.redd.it/8OkDeADBmg78e...                  NaN   \n",
       "4                     http://i.imgur.com/fpuSTrf.jpg               31c39q   \n",
       "\n",
       "   num_comments  score  upvote_ratio  2_way_label  \n",
       "0           6.0      5          0.78            1  \n",
       "1           1.0      4          0.84            0  \n",
       "2           2.0     33          1.00            0  \n",
       "3          10.0     23          0.73            1  \n",
       "4           NaN      1           NaN            0  "
      ]
     },
     "execution_count": 6,
     "metadata": {},
     "output_type": "execute_result"
    }
   ],
   "source": [
    "df = pd.read_csv('dataset_curso.csv')\n",
    "\n",
    "df.head()"
   ]
  },
  {
   "cell_type": "code",
   "execution_count": 8,
   "metadata": {},
   "outputs": [],
   "source": [
    "df['len'] = df['clean_title'].apply(len)"
   ]
  },
  {
   "cell_type": "code",
   "execution_count": 20,
   "metadata": {},
   "outputs": [],
   "source": [
    "df['hasImage'] = df['image_url'].str.startswith('https')"
   ]
  },
  {
   "cell_type": "code",
   "execution_count": 13,
   "metadata": {},
   "outputs": [
    {
     "data": {
      "text/plain": [
       "<Axes: >"
      ]
     },
     "execution_count": 13,
     "metadata": {},
     "output_type": "execute_result"
    },
    {
     "data": {
      "image/png": "[encoded data removed]",
      "text/plain": [
       "<Figure size 640x480 with 1 Axes>"
      ]
     },
     "metadata": {},
     "output_type": "display_data"
    }
   ],
   "source": [
    "df[df['len'] < 10]['len'].hist()"
   ]
  },
  {
   "cell_type": "code",
   "execution_count": 21,
   "metadata": {},
   "outputs": [
    {
     "name": "stderr",
     "output_type": "stream",
     "text": [
      "  0%|          | 0/56400 [00:08<?, ?it/s]\n"
     ]
    },
    {
     "name": "stdout",
     "output_type": "stream",
     "text": [
      "done\n"
     ]
    }
   ],
   "source": [
    "df = df.replace(np.nan, '', regex=True)\n",
    "df.fillna('', inplace=True)\n",
    "\n",
    "pbar = tqdm(total=len(df))\n",
    "\n",
    "FAILED = []\n",
    "\n",
    "if not os.path.exists(\"images\"):\n",
    "    os.makedirs(\"images\")\n",
    "for index, row in df.iterrows():\n",
    "    if row[\"hasImage\"] == True and row[\"image_url\"] != \"\" and row[\"image_url\"] != \"nan\":\n",
    "        image_url = row[\"image_url\"]\n",
    "        try:\n",
    "            urllib.request.urlretrieve(image_url, \"images/\" + row[\"id\"] + \".jpg\")\n",
    "        except:\n",
    "            FAILED.append(index)\n",
    "    pbar.update(1)\n",
    "print(\"done\")"
   ]
  },
  {
   "cell_type": "code",
   "execution_count": null,
   "metadata": {},
   "outputs": [],
   "source": []
  }
 ],
 "metadata": {
  "kernelspec": {
   "display_name": "fake_news-6ZUGHfY-",
   "language": "python",
   "name": "python3"
  },
  "language_info": {
   "codemirror_mode": {
    "name": "ipython",
    "version": 3
   },
   "file_extension": ".py",
   "mimetype": "text/x-python",
   "name": "python",
   "nbconvert_exporter": "python",
   "pygments_lexer": "ipython3",
   "version": "3.11.2"
  }
 },
 "nbformat": 4,
 "nbformat_minor": 2
}
